{
 "cells": [
  {
   "cell_type": "code",
   "execution_count": 2,
   "metadata": {},
   "outputs": [],
   "source": [
    "from deepface import DeepFace\n",
    "import os\n",
    "import pandas as pd\n",
    "from tqdm import tqdm"
   ]
  },
  {
   "cell_type": "code",
   "execution_count": 3,
   "metadata": {},
   "outputs": [
    {
     "name": "stderr",
     "output_type": "stream",
     "text": [
      "Processing Images: 100%|██████████| 1551/1551 [1:17:13<00:00,  2.99s/it]\n"
     ]
    },
    {
     "name": "stdout",
     "output_type": "stream",
     "text": [
      "Fitur berhasil disimpan ke: Data\\features\\features_with_labels.csv\n"
     ]
    }
   ],
   "source": [
    "\n",
    "# Tentukan folder input dan file output\n",
    "input_folder = r'..\\Data\\wajah\\augment'  \n",
    "output_csv = r'..\\Data\\features\\features_with_labels.csv' \n",
    "\n",
    "output_folder = os.path.dirname(output_csv)  # Ambil path folder\n",
    "os.makedirs(output_folder, exist_ok=True)\n",
    "\n",
    "# Ekstensi file gambar yang didukung\n",
    "image_extensions = ('.jpg', '.jpeg', '.png')\n",
    "\n",
    "# List untuk menyimpan hasil ekstraksi\n",
    "features = []\n",
    "\n",
    "# Loop melalui folder dan subfolder dengan progress bar\n",
    "all_files = []\n",
    "for root, dirs, files in os.walk(input_folder):\n",
    "    for file in files:\n",
    "        if file.lower().endswith(image_extensions):\n",
    "            all_files.append(os.path.join(root, file))\n",
    "\n",
    "# Tampilkan progress bar\n",
    "for image_path in tqdm(all_files, desc=\"Processing Images\"):\n",
    "    folder_name = os.path.basename(os.path.dirname(image_path))  # Ambil nama folder\n",
    "    try:\n",
    "        # Ekstraksi fitur menggunakan DeepFace\n",
    "        embedding = DeepFace.represent(img_path=image_path, model_name='Facenet', enforce_detection=False, detector_backend='retinaface')\n",
    "        \n",
    "        # Menyimpan hasil ekstraksi\n",
    "        features.append({\n",
    "            'folder_name': folder_name,  # Simpan nama folder\n",
    "            'image_path': image_path,\n",
    "            'features': embedding[0]['embedding']  # Ambil vektor embedding\n",
    "        })\n",
    "    except Exception as e:\n",
    "        print(f\"Error memproses {image_path}: {e}\")\n",
    "\n",
    "# Konversi hasil ke DataFrame\n",
    "df = pd.DataFrame(features)\n",
    "\n",
    "# Simpan ke file CSV\n",
    "df.to_csv(output_csv, index=False)\n",
    "print(f\"Fitur berhasil disimpan ke: {output_csv}\")"
   ]
  }
 ],
 "metadata": {
  "kernelspec": {
   "display_name": "deepface",
   "language": "python",
   "name": "python3"
  },
  "language_info": {
   "codemirror_mode": {
    "name": "ipython",
    "version": 3
   },
   "file_extension": ".py",
   "mimetype": "text/x-python",
   "name": "python",
   "nbconvert_exporter": "python",
   "pygments_lexer": "ipython3",
   "version": "3.9.21"
  }
 },
 "nbformat": 4,
 "nbformat_minor": 2
}
