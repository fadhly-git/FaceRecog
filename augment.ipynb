{
 "cells": [
  {
   "cell_type": "code",
   "execution_count": 1,
   "metadata": {},
   "outputs": [],
   "source": [
    "import os\n",
    "import cv2\n",
    "import albumentations as A\n",
    "from albumentations.pytorch import ToTensorV2\n",
    "from tqdm import tqdm"
   ]
  },
  {
   "cell_type": "code",
   "execution_count": null,
   "metadata": {},
   "outputs": [
    {
     "name": "stderr",
     "output_type": "stream",
     "text": [
      "Processing files in .: 100%|██████████| 4/4 [00:02<00:00,  1.88it/s]\n"
     ]
    }
   ],
   "source": [
    "# Tentukan path folder input dan output\n",
    "input_folder = r'Data\\wajah\\crop\\Fadh'  # Ganti dengan path folder gambar crop Anda\n",
    "output_folder = r'Data\\wajah\\augment\\Fadh'  # Ganti dengan path folder output\n",
    "\n",
    "# Membuat folder output jika belum ada\n",
    "os.makedirs(output_folder, exist_ok=True)\n",
    "\n",
    "# Definisikan augmentasi menggunakan albumentations\n",
    "augmenter = A.Compose([\n",
    "    A.HorizontalFlip(p=0.5),  # Flip horizontal\n",
    "    A.HueSaturationValue(hue_shift_limit=10, sat_shift_limit=25, val_shift_limit=15, p=0.5),  # Hue, Saturation, dan Brightness\n",
    "    A.RandomBrightnessContrast(brightness_limit=0.15, contrast_limit=0.15, p=0.5),  # Brightness dan Kontras\n",
    "    A.RandomGamma(gamma_limit=(80, 120), p=0.5),  # Exposure (RandomGamma)\n",
    "    A.GaussianBlur(blur_limit=3, p=0.5),  # Blur\n",
    "    A.ImageCompression(quality_lower=80, p=0.5)  # Noise (image compression)\n",
    "])\n",
    "\n",
    "def augment_and_save(image_path, relative_folder, filename, num_augmentations=10):\n",
    "    img = cv2.imread(image_path)\n",
    "    img = cv2.cvtColor(img, cv2.COLOR_BGR2RGB)  # Convert ke RGB jika perlu\n",
    "\n",
    "    # Membuat folder output untuk gambar ini\n",
    "    target_folder = os.path.join(output_folder, relative_folder)\n",
    "    os.makedirs(target_folder, exist_ok=True)\n",
    "\n",
    "    # Menyimpan gambar asli\n",
    "    original_image_path = os.path.join(target_folder, f\"{filename}_original.jpg\")\n",
    "    cv2.imwrite(original_image_path, cv2.cvtColor(img, cv2.COLOR_RGB2BGR))  # Convert kembali ke BGR untuk menyimpan\n",
    "\n",
    "    for i in range(num_augmentations):\n",
    "        augmented = augmenter(image=img)\n",
    "        augmented_image = augmented['image']  # Hasil augmentasi tetap berupa numpy array\n",
    "\n",
    "        # Menyimpan gambar yang telah di-augmentasi\n",
    "        augmented_image_path = os.path.join(target_folder, f\"{filename}_augmented_{i+1}.jpg\")\n",
    "        augmented_image_bgr = cv2.cvtColor(augmented_image, cv2.COLOR_RGB2BGR)  # Convert ke BGR untuk menyimpan\n",
    "        cv2.imwrite(augmented_image_path, augmented_image_bgr)\n",
    "\n",
    "# Loop melalui folder dan lakukan augmentasi dengan tqdm\n",
    "for root, dirs, files in os.walk(input_folder):\n",
    "    relative_folder = os.path.relpath(root, input_folder)  # Dapatkan folder relatif dari input_folder\n",
    "    for file in tqdm(files, desc=f\"Processing files in {relative_folder}\"):\n",
    "        if file.endswith(('.jpg', '.jpeg', '.png')):\n",
    "            image_path = os.path.join(root, file)\n",
    "            filename, _ = os.path.splitext(file)\n",
    "            augment_and_save(image_path, relative_folder, filename)"
   ]
  },
  {
   "cell_type": "code",
   "execution_count": 7,
   "metadata": {},
   "outputs": [
    {
     "name": "stdout",
     "output_type": "stream",
     "text": [
      "Jumlah total gambar di folder 'Data\\wajah\\augment': 1551\n"
     ]
    }
   ],
   "source": [
    "import os\n",
    "\n",
    "# Tentukan folder input\n",
    "input_folder = r'Data\\wajah\\augment'  # Ganti dengan path folder Anda\n",
    "\n",
    "# Ekstensi file gambar yang didukung\n",
    "image_extensions = ('.jpg', '.jpeg', '.png', '.bmp', '.tiff', '.gif')\n",
    "\n",
    "# Variabel untuk menghitung jumlah gambar\n",
    "image_count = 0\n",
    "\n",
    "# Loop melalui folder dan subfolder\n",
    "for root, dirs, files in os.walk(input_folder):\n",
    "    for file in files:\n",
    "        if file.lower().endswith(image_extensions):  # Periksa apakah file adalah gambar\n",
    "            image_count += 1\n",
    "\n",
    "print(f\"Jumlah total gambar di folder '{input_folder}': {image_count}\")\n"
   ]
  }
 ],
 "metadata": {
  "kernelspec": {
   "display_name": "album",
   "language": "python",
   "name": "python3"
  },
  "language_info": {
   "codemirror_mode": {
    "name": "ipython",
    "version": 3
   },
   "file_extension": ".py",
   "mimetype": "text/x-python",
   "name": "python",
   "nbconvert_exporter": "python",
   "pygments_lexer": "ipython3",
   "version": "3.9.21"
  }
 },
 "nbformat": 4,
 "nbformat_minor": 2
}
