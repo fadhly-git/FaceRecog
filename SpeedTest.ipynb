{
 "cells": [
  {
   "cell_type": "code",
   "execution_count": 5,
   "metadata": {},
   "outputs": [
    {
     "name": "stdout",
     "output_type": "stream",
     "text": [
      "Menemukan server terbaik...\n",
      "Menggunakan server: speedtest.swin.net.id:8080 di Indonesia\n",
      "Mengukur kecepatan unduh...\n",
      "Mengukur kecepatan unggah...\n",
      "Kecepatan Unduh: 42.84 Mbps\n",
      "Kecepatan Unggah: 72.84 Mbps\n",
      "Ping: 20.143 ms\n"
     ]
    }
   ],
   "source": [
    "import speedtest\n",
    "\n",
    "try:\n",
    "    # Membuat objek Speedtest\n",
    "    st = speedtest.Speedtest()\n",
    "\n",
    "    # Menampilkan daftar server\n",
    "    print(\"Menemukan server terbaik...\")\n",
    "    best_server = st.get_best_server()\n",
    "    print(f\"Menggunakan server: {best_server['host']} di {best_server['country']}\")\n",
    "\n",
    "    # Mengukur kecepatan unduh\n",
    "    print(\"Mengukur kecepatan unduh...\")\n",
    "    download_speed = st.download() / 1_000_000  # Mengonversi ke Mbps\n",
    "\n",
    "    # Mengukur kecepatan unggah\n",
    "    print(\"Mengukur kecepatan unggah...\")\n",
    "    upload_speed = st.upload() / 1_000_000  # Mengonversi ke Mbps\n",
    "\n",
    "    # Mengukur ping\n",
    "    ping = st.results.ping\n",
    "\n",
    "    # Menampilkan hasil\n",
    "    print(f\"Kecepatan Unduh: {download_speed:.2f} Mbps\")\n",
    "    print(f\"Kecepatan Unggah: {upload_speed:.2f} Mbps\")\n",
    "    print(f\"Ping: {ping} ms\")\n",
    "except Exception as e:\n",
    "    print(f\"Terjadi kesalahan: {e}\")\n"
   ]
  },
  {
   "cell_type": "code",
   "execution_count": 3,
   "metadata": {},
   "outputs": [
    {
     "name": "stdout",
     "output_type": "stream",
     "text": [
      "Package            Version\n",
      "------------------ -----------\n",
      "asttokens          2.0.5\n",
      "backcall           0.2.0\n",
      "colorama           0.4.6\n",
      "comm               0.2.1\n",
      "debugpy            1.6.7\n",
      "decorator          5.1.1\n",
      "exceptiongroup     1.2.0\n",
      "executing          0.8.3\n",
      "importlib_metadata 8.5.0\n",
      "ipykernel          6.29.5\n",
      "ipython            8.15.0\n",
      "jedi               0.19.2\n",
      "jupyter_client     8.6.0\n",
      "jupyter_core       5.7.2\n",
      "matplotlib-inline  0.1.6\n",
      "nest-asyncio       1.6.0\n",
      "packaging          24.2\n",
      "parso              0.8.4\n",
      "pickleshare        0.7.5\n",
      "pip                24.2\n",
      "platformdirs       3.10.0\n",
      "prompt-toolkit     3.0.43\n",
      "psutil             5.9.0\n",
      "pure-eval          0.2.2\n",
      "Pygments           2.15.1\n",
      "python-dateutil    2.9.0.post0\n",
      "pywin32            305.1\n",
      "pyzmq              26.2.0\n",
      "setuptools         75.1.0\n",
      "six                1.16.0\n",
      "speedtest-cli      2.1.3\n",
      "stack-data         0.2.0\n",
      "tornado            6.4.2\n",
      "traitlets          5.14.3\n",
      "typing_extensions  4.12.2\n",
      "wcwidth            0.2.5\n",
      "wheel              0.44.0\n",
      "zipp               3.21.0\n"
     ]
    }
   ],
   "source": [
    "!pip list"
   ]
  }
 ],
 "metadata": {
  "kernelspec": {
   "display_name": "speedtest",
   "language": "python",
   "name": "python3"
  },
  "language_info": {
   "codemirror_mode": {
    "name": "ipython",
    "version": 3
   },
   "file_extension": ".py",
   "mimetype": "text/x-python",
   "name": "python",
   "nbconvert_exporter": "python",
   "pygments_lexer": "ipython3",
   "version": "3.9.21"
  }
 },
 "nbformat": 4,
 "nbformat_minor": 2
}
